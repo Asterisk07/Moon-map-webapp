{
 "cells": [
  {
   "cell_type": "code",
   "execution_count": 1,
   "metadata": {},
   "outputs": [],
   "source": [
    "DATABASE_PATH = '../database/abundances.db'\n",
    "element_list = ['Fe', 'Ti', 'Ca', 'Si', 'Al', 'Mg', 'Na']"
   ]
  },
  {
   "cell_type": "code",
   "execution_count": null,
   "metadata": {},
   "outputs": [],
   "source": [
    "import json\n",
    "import sqlite3\n",
    "\n",
    "\n",
    "\n",
    "import sqlite3\n",
    "import pandas as pd\n",
    "from flask import jsonify\n",
    "\n",
    "def query_db_list(query, params=(), limit=None):\n",
    "    db_path = DATABASE_PATH\n",
    "    connection = sqlite3.connect(db_path)\n",
    "\n",
    "    # Add LIMIT clause if a limit is specified\n",
    "    if limit is not None:\n",
    "        query += f\" LIMIT {limit}\"\n",
    "        \n",
    "    # Using pandas to read the query result directly into a DataFrame\n",
    "    df = pd.read_sql_query(query, connection, params=params)\n",
    "\n",
    "    connection.close()\n",
    "\n",
    "    # Convert DataFrame to a list of dictionaries\n",
    "    result_list = df.to_dict(orient='records')\n",
    "\n",
    "    return result_list\n"
   ]
  },
  {
   "cell_type": "markdown",
   "metadata": {},
   "source": [
    "## fetching single element"
   ]
  },
  {
   "cell_type": "code",
   "execution_count": 49,
   "metadata": {},
   "outputs": [
    {
     "name": "stdout",
     "output_type": "stream",
     "text": [
      "time to fetch : 2.1485 seconds\n"
     ]
    }
   ],
   "source": [
    "\n",
    "# Example of querying the database for a specific element\n",
    "element = \"Si\"  # Example element (replace with your query parameter)\n",
    "# date = None # Example date (can be None or a valid date)\n",
    "date = None  # Example date (can be None or a valid date)\n",
    "# date = \"2021-04-22\"  # Example date (can be None or a valid date)\n",
    "# date = \"2020-01-02\"  # Example date (can be None or a valid date)\n",
    "\n",
    "FETCH_LIMIT  = None\n",
    "# Build the query based on the presence of 'date'\n",
    "if date:\n",
    "    query = \"SELECT * FROM abundances WHERE element = ? AND date = ?\"\n",
    "    data = (element, date)\n",
    "else:\n",
    "    query = \"SELECT * FROM abundances WHERE element = ?\"\n",
    "    data = (element,)\n",
    "\n",
    "\n",
    "# Start the timer to measure the query execution time\n",
    "start_time = time.time()\n",
    "\n",
    "result = query_db(query, data,FETCH_LIMIT )\n",
    "\n",
    "\n",
    "end_time = time.time()\n",
    "# Print the time taken to perform the query\n",
    "print(f\"time to fetch : {end_time - start_time:.4f} seconds\")\n",
    "# Get the result from the query_db function\n",
    "\n",
    "# Print the result in JSON-like format (list of dictionaries)\n",
    "# print(json.dumps(result, indent=4))"
   ]
  },
  {
   "cell_type": "code",
   "execution_count": 50,
   "metadata": {},
   "outputs": [
    {
     "data": {
      "text/plain": [
       "250000"
      ]
     },
     "execution_count": 50,
     "metadata": {},
     "output_type": "execute_result"
    }
   ],
   "source": [
    "len(result)"
   ]
  },
  {
   "cell_type": "code",
   "execution_count": null,
   "metadata": {},
   "outputs": [],
   "source": []
  },
  {
   "cell_type": "code",
   "execution_count": null,
   "metadata": {},
   "outputs": [],
   "source": []
  },
  {
   "cell_type": "code",
   "execution_count": 51,
   "metadata": {},
   "outputs": [],
   "source": [
    "import numpy"
   ]
  },
  {
   "cell_type": "code",
   "execution_count": null,
   "metadata": {},
   "outputs": [],
   "source": []
  },
  {
   "cell_type": "code",
   "execution_count": 7,
   "metadata": {},
   "outputs": [
    {
     "ename": "NameError",
     "evalue": "name 'result' is not defined",
     "output_type": "error",
     "traceback": [
      "\u001b[1;31m---------------------------------------------------------------------------\u001b[0m",
      "\u001b[1;31mNameError\u001b[0m                                 Traceback (most recent call last)",
      "Cell \u001b[1;32mIn[7], line 5\u001b[0m\n\u001b[0;32m      2\u001b[0m \u001b[38;5;28;01mfrom\u001b[39;00m \u001b[38;5;21;01msklearn\u001b[39;00m\u001b[38;5;21;01m.\u001b[39;00m\u001b[38;5;21;01mneighbors\u001b[39;00m \u001b[38;5;28;01mimport\u001b[39;00m KDTree\n\u001b[0;32m      3\u001b[0m \u001b[38;5;28;01mimport\u001b[39;00m \u001b[38;5;21;01mnumpy\u001b[39;00m \u001b[38;5;28;01mas\u001b[39;00m \u001b[38;5;21;01mnp\u001b[39;00m\n\u001b[1;32m----> 5\u001b[0m points \u001b[38;5;241m=\u001b[39m \u001b[43mresult\u001b[49m\n\u001b[0;32m      7\u001b[0m \u001b[38;5;66;03m# # List of points, where each point is a dictionary\u001b[39;00m\n\u001b[0;32m      8\u001b[0m \u001b[38;5;66;03m# points = [\u001b[39;00m\n\u001b[0;32m      9\u001b[0m \u001b[38;5;66;03m#     {'element': 'Si', 'date': '2020-01-01', 'abundance': 17.0, 'lat': 66.988234, 'long': 22.479195, 'year': 2024, 'day': 5, 'hour': 14, 'min': 9, 'sec': 57},\u001b[39;00m\n\u001b[1;32m   (...)\u001b[0m\n\u001b[0;32m     14\u001b[0m \n\u001b[0;32m     15\u001b[0m \u001b[38;5;66;03m# Start the timer to measure the query execution time\u001b[39;00m\n\u001b[0;32m     16\u001b[0m start_time \u001b[38;5;241m=\u001b[39m time\u001b[38;5;241m.\u001b[39mtime()\n",
      "\u001b[1;31mNameError\u001b[0m: name 'result' is not defined"
     ]
    }
   ],
   "source": [
    "import time\n",
    "from sklearn.neighbors import KDTree\n",
    "import numpy as np\n",
    "\n",
    "points = result\n",
    "\n",
    "# # List of points, where each point is a dictionary\n",
    "# points = [\n",
    "#     {'element': 'Si', 'date': '2020-01-01', 'abundance': 17.0, 'lat': 66.988234, 'long': 22.479195, 'year': 2024, 'day': 5, 'hour': 14, 'min': 9, 'sec': 57},\n",
    "#     {'element': 'O', 'date': '2021-05-10', 'abundance': 20.0, 'lat': 66.988500, 'long': 22.479800, 'year': 2025, 'day': 10, 'hour': 15, 'min': 10, 'sec': 30},\n",
    "#     {'element': 'Mg', 'date': '2022-08-12', 'abundance': 19.5, 'lat': 66.987000, 'long': 22.478000, 'year': 2023, 'day': 12, 'hour': 13, 'min': 8, 'sec': 10},\n",
    "#     # Add more points...\n",
    "# ]\n",
    "\n",
    "# Start the timer to measure the query execution time\n",
    "start_time = time.time()\n",
    "\n",
    "# Extract lat, long as 2D NumPy array (lat, long)\n",
    "points_array = np.array([(point['lat'], point['long']) for point in points])\n",
    "\n",
    "end_time = time.time()\n",
    "# Print the time taken to perform the query\n",
    "print(f\"Array creation time {end_time - start_time:.4f} seconds\")\n",
    "start_time = time.time()\n",
    "# Create a KDTree with the points\n",
    "tree = KDTree(points_array)\n",
    "print(f\"Tree creation time {end_time - start_time:.4f} seconds\")\n",
    "\n",
    "# End the timer after the query is completed\n",
    "end_time = time.time()\n",
    "\n",
    "# Function to fetch nearby points within a radius\n",
    "def get_nearby_points(query_point, radius_degrees):\n",
    "    # Convert query_point to a NumPy array\n",
    "    query_array = np.array([query_point])\n",
    "\n",
    "    # Query the tree to find points within the radius (in degrees)\n",
    "    indices = tree.query_radius(query_array, r=radius_degrees)\n",
    "\n",
    "    # Fetch the actual nearby points using the indices\n",
    "    nearby_points = [points[i] for i in indices[0]]\n",
    "\n",
    "    return nearby_points\n",
    "\n",
    "# Example query for nearby points\n",
    "query_point = (66.988234, 22.479195)  # A point to query (lat, long)\n",
    "radius = 2.0  # Radius in degrees (adjust as needed)\n",
    "\n",
    "# Start the timer to measure the query execution time\n",
    "start_time = time.time()\n",
    "\n",
    "# Get points within the radius\n",
    "nearby_points = get_nearby_points(query_point, radius)\n",
    "\n",
    "# End the timer after the query is completed\n",
    "end_time = time.time()\n",
    "\n",
    "print(f\"{len(nearby_points)} found\")\n",
    "# # Print the nearby points\n",
    "# for point in nearby_points:\n",
    "#     print(point)\n",
    "\n",
    "# Print the time taken to perform the query\n",
    "print(f\"Query executed in {end_time - start_time:.4f} seconds\")\n"
   ]
  },
  {
   "cell_type": "code",
   "execution_count": 28,
   "metadata": {},
   "outputs": [
    {
     "data": {
      "text/plain": [
       "{'element': 'Fe',\n",
       " 'date': '2022-04-19',\n",
       " 'abundance': 5.0,\n",
       " 'lat': 66.666875,\n",
       " 'long': 24.52875,\n",
       " 'year': 2022,\n",
       " 'day': 19,\n",
       " 'hour': 11,\n",
       " 'min': 43,\n",
       " 'sec': 29}"
      ]
     },
     "execution_count": 28,
     "metadata": {},
     "output_type": "execute_result"
    }
   ],
   "source": [
    "(nearby_points[0])"
   ]
  },
  {
   "cell_type": "markdown",
   "metadata": {},
   "source": [
    "## fetching all points"
   ]
  },
  {
   "cell_type": "code",
   "execution_count": 9,
   "metadata": {},
   "outputs": [
    {
     "name": "stdout",
     "output_type": "stream",
     "text": [
      "time to fetch : 0.3771 seconds\n"
     ]
    }
   ],
   "source": [
    "import time\n",
    "# Example of querying the database for a specific element\n",
    "element = \"Si\"  # Example element (replace with your query parameter)\n",
    "# date = None # Example date (can be None or a valid date)\n",
    "date = None  # Example date (can be None or a valid date)\n",
    "# date = \"2021-04-22\"  # Example date (can be None or a valid date)\n",
    "# date = \"2020-01-02\"  # Example date (can be None or a valid date)\n",
    "\n",
    "FETCH_LIMIT  = None\n",
    "# Build the query based on the presence of 'date'\n",
    "if date:\n",
    "    query = \"SELECT * FROM abundances WHERE element = ? AND date = ?\"\n",
    "    data = (element, date)\n",
    "else:\n",
    "    query = \"SELECT * FROM abundances WHERE element = ?\"\n",
    "    data = (element,)\n",
    "\n",
    "\n",
    "# Start the timer to measure the query execution time\n",
    "start_time = time.time()\n",
    "\n",
    "result = query_db(query, data,FETCH_LIMIT )\n",
    "\n",
    "\n",
    "end_time = time.time()\n",
    "# Print the time taken to perform the query\n",
    "print(f\"time to fetch : {end_time - start_time:.4f} seconds\")\n",
    "# Get the result from the query_db function\n",
    "\n",
    "# Print the result in JSON-like format (list of dictionaries)\n",
    "# print(json.dumps(result, indent=4))"
   ]
  },
  {
   "cell_type": "code",
   "execution_count": 10,
   "metadata": {},
   "outputs": [],
   "source": [
    "query = \"SELECT * FROM abundances\"\n",
    "data = []"
   ]
  },
  {
   "cell_type": "code",
   "execution_count": 11,
   "metadata": {},
   "outputs": [
    {
     "name": "stdout",
     "output_type": "stream",
     "text": [
      "time to fetch : 2.9296 seconds\n"
     ]
    }
   ],
   "source": [
    "# Start the timer to measure the query execution time\n",
    "start_time = time.time()\n",
    "\n",
    "result = query_db(query, data,FETCH_LIMIT )\n",
    "\n",
    "\n",
    "end_time = time.time()\n",
    "# Print the time taken to perform the query\n",
    "print(f\"time to fetch : {end_time - start_time:.4f} seconds\")"
   ]
  },
  {
   "cell_type": "code",
   "execution_count": 14,
   "metadata": {},
   "outputs": [
    {
     "data": {
      "text/plain": [
       "51277.0"
      ]
     },
     "execution_count": 14,
     "metadata": {},
     "output_type": "execute_result"
    }
   ],
   "source": [
    "len(result) / 7"
   ]
  },
  {
   "cell_type": "code",
   "execution_count": null,
   "metadata": {},
   "outputs": [],
   "source": []
  },
  {
   "cell_type": "code",
   "execution_count": 16,
   "metadata": {},
   "outputs": [
    {
     "name": "stdout",
     "output_type": "stream",
     "text": [
      "Size of my_list: 2 MB\n"
     ]
    }
   ],
   "source": [
    "import sys\n",
    "\n",
    "\n",
    "# Get the size of the variable\n",
    "size_in_bytes = sys.getsizeof(result)\n",
    "\n",
    "print(f\"Size of my_list: {size_in_bytes//1024**2} MB\")\n"
   ]
  },
  {
   "cell_type": "code",
   "execution_count": 17,
   "metadata": {},
   "outputs": [],
   "source": [
    "import time\n",
    "from sklearn.neighbors import KDTree\n",
    "import numpy as np\n",
    "\n",
    "points = result"
   ]
  },
  {
   "cell_type": "code",
   "execution_count": 18,
   "metadata": {},
   "outputs": [],
   "source": [
    "# kernel = True"
   ]
  },
  {
   "cell_type": "code",
   "execution_count": 19,
   "metadata": {},
   "outputs": [
    {
     "name": "stdout",
     "output_type": "stream",
     "text": [
      "Trees creation time : 0.3388 seconds\n"
     ]
    }
   ],
   "source": [
    "# Create a KDTree for each element\n",
    "element_trees = {}\n",
    "\n",
    "# Start the timer to measure the query execution time\n",
    "start_time = time.time()\n",
    "\n",
    "\n",
    "for element in element_list:\n",
    "    element_points = [(point['lat'], point['long']) for point in points if point['element'] == element]\n",
    "    element_trees[element] = KDTree(np.array(element_points))\n",
    "\n",
    "end_time = time.time()\n",
    "# Print the time taken to perform the query\n",
    "print(f\"Trees creation time : {end_time - start_time:.4f} seconds\")\n",
    "\n",
    "# Query function\n",
    "def get_nearby_points(query_point, radius_degrees, element):\n",
    "    query_array = np.array([query_point])\n",
    "\n",
    "    # Query the relevant tree for the specified element\n",
    "    tree = element_trees.get(element)\n",
    "    if tree:\n",
    "        indices = tree.query_radius(query_array, r=radius_degrees)\n",
    "        return [points[i] for i in indices[0]]\n",
    "    else:\n",
    "        return []\n",
    "\n"
   ]
  },
  {
   "cell_type": "code",
   "execution_count": 20,
   "metadata": {},
   "outputs": [
    {
     "name": "stdout",
     "output_type": "stream",
     "text": [
      "Size of elements trees: 7 KB\n"
     ]
    }
   ],
   "source": [
    "# Get the size of the variable\n",
    "size_in_bytes = sys.getsizeof(element_trees['Fe']) * 7 \n",
    "\n",
    "print(f\"Size of elements trees: {size_in_bytes//1024} KB\")"
   ]
  },
  {
   "cell_type": "code",
   "execution_count": 25,
   "metadata": {},
   "outputs": [
    {
     "name": "stdout",
     "output_type": "stream",
     "text": [
      "Query time : 0.0010 seconds\n",
      "8 points found\n"
     ]
    }
   ],
   "source": [
    "# Query for a specific element\n",
    "query_point = (66.988234, 22.479195)\n",
    "radius = 3.0  # 2 degrees radius\n",
    "element = 'Si'\n",
    "\n",
    "start_time = time.time()\n",
    "\n",
    "nearby_points = get_nearby_points(query_point, radius, element)\n",
    "\n",
    "end_time = time.time()\n",
    "# Print the time taken to perform the query\n",
    "print(f\"Query time : {end_time - start_time:.4f} seconds\")\n",
    "\n",
    "print(f\"{len(nearby_points)} points found\")\n",
    "\n"
   ]
  },
  {
   "cell_type": "code",
   "execution_count": 26,
   "metadata": {},
   "outputs": [
    {
     "data": {
      "text/plain": [
       "[{'element': 'Fe',\n",
       "  'date': '2022-04-19',\n",
       "  'abundance': 5.0,\n",
       "  'lat': 66.666875,\n",
       "  'long': 24.52875,\n",
       "  'year': 2022,\n",
       "  'day': 19,\n",
       "  'hour': 11,\n",
       "  'min': 43,\n",
       "  'sec': 29},\n",
       " {'element': 'Fe',\n",
       "  'date': '2022-04-19',\n",
       "  'abundance': 5.0,\n",
       "  'lat': 67.07445,\n",
       "  'long': 24.541525,\n",
       "  'year': 2022,\n",
       "  'day': 19,\n",
       "  'hour': 11,\n",
       "  'min': 43,\n",
       "  'sec': 21},\n",
       " {'element': 'Fe',\n",
       "  'date': '2022-04-19',\n",
       "  'abundance': 5.0,\n",
       "  'lat': 65.444225,\n",
       "  'long': 24.4929,\n",
       "  'year': 2022,\n",
       "  'day': 19,\n",
       "  'hour': 11,\n",
       "  'min': 43,\n",
       "  'sec': 53},\n",
       " {'element': 'Fe',\n",
       "  'date': '2022-04-19',\n",
       "  'abundance': 5.0,\n",
       "  'lat': 67.48202500000001,\n",
       "  'long': 24.55485,\n",
       "  'year': 2022,\n",
       "  'day': 19,\n",
       "  'hour': 11,\n",
       "  'min': 43,\n",
       "  'sec': 13},\n",
       " {'element': 'Fe',\n",
       "  'date': '2022-04-19',\n",
       "  'abundance': 5.0,\n",
       "  'lat': 65.851775,\n",
       "  'long': 24.50445,\n",
       "  'year': 2022,\n",
       "  'day': 19,\n",
       "  'hour': 11,\n",
       "  'min': 43,\n",
       "  'sec': 45},\n",
       " {'element': 'Fe',\n",
       "  'date': '2022-04-19',\n",
       "  'abundance': 2.77332,\n",
       "  'lat': 67.889625,\n",
       "  'long': 24.5685,\n",
       "  'year': 2022,\n",
       "  'day': 19,\n",
       "  'hour': 11,\n",
       "  'min': 43,\n",
       "  'sec': 5},\n",
       " {'element': 'Fe',\n",
       "  'date': '2022-04-19',\n",
       "  'abundance': 5.0,\n",
       "  'lat': 68.297225,\n",
       "  'long': 24.582475,\n",
       "  'year': 2022,\n",
       "  'day': 19,\n",
       "  'hour': 11,\n",
       "  'min': 42,\n",
       "  'sec': 57},\n",
       " {'element': 'Fe',\n",
       "  'date': '2022-04-19',\n",
       "  'abundance': 5.0,\n",
       "  'lat': 68.7049,\n",
       "  'long': 24.597075,\n",
       "  'year': 2022,\n",
       "  'day': 19,\n",
       "  'hour': 11,\n",
       "  'min': 42,\n",
       "  'sec': 49}]"
      ]
     },
     "execution_count": 26,
     "metadata": {},
     "output_type": "execute_result"
    }
   ],
   "source": [
    "nearby_points"
   ]
  },
  {
   "cell_type": "code",
   "execution_count": 102,
   "metadata": {},
   "outputs": [
    {
     "data": {
      "text/plain": [
       "[[63.384976, 20.88965],\n",
       " [63.568389, 21.611099],\n",
       " [63.440604, 20.868272],\n",
       " [63.623415, 20.941517],\n",
       " [63.715584, 20.629065],\n",
       " [63.862185, 19.988494],\n",
       " [63.981685, 22.22674],\n",
       " [63.957563, 21.489285],\n",
       " [63.989492, 20.865799],\n",
       " [63.808552, 22.329401],\n",
       " [64.198639, 19.929209],\n",
       " [64.217924, 21.590061],\n",
       " [64.260436, 20.445086],\n",
       " [64.406685, 21.841401],\n",
       " [64.445796, 20.796922],\n",
       " [64.577912, 19.619538],\n",
       " [64.639676, 19.551581],\n",
       " [64.764734, 19.207426],\n",
       " [64.813723, 21.18727],\n",
       " [64.874453, 22.78601]]"
      ]
     },
     "execution_count": 102,
     "metadata": {},
     "output_type": "execute_result"
    }
   ],
   "source": [
    "N1 = 20\n",
    "l1 = [[i['lat'], i['long']] for i in nearby_points[:N1]]\n",
    "\n",
    "l1"
   ]
  }
 ],
 "metadata": {
  "kernelspec": {
   "display_name": "Python 3",
   "language": "python",
   "name": "python3"
  },
  "language_info": {
   "codemirror_mode": {
    "name": "ipython",
    "version": 3
   },
   "file_extension": ".py",
   "mimetype": "text/x-python",
   "name": "python",
   "nbconvert_exporter": "python",
   "pygments_lexer": "ipython3",
   "version": "3.11.2"
  }
 },
 "nbformat": 4,
 "nbformat_minor": 2
}

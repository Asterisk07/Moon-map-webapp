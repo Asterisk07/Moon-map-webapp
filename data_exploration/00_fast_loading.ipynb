{
 "cells": [
  {
   "cell_type": "code",
   "execution_count": 47,
   "metadata": {},
   "outputs": [],
   "source": [
    "DATABASE_PATH = '../database/abundances_new.db'\n",
    "element_list = ['Fe', 'Ti', 'Ca', 'Si', 'Al', 'Mg', 'Na']"
   ]
  },
  {
   "cell_type": "code",
   "execution_count": 48,
   "metadata": {},
   "outputs": [],
   "source": [
    "import json\n",
    "def query_db(query, params=(), limit=None):\n",
    "    db_path = DATABASE_PATH\n",
    "    connection = sqlite3.connect(db_path)\n",
    "\n",
    "    # Add LIMIT clause if a limit is specified\n",
    "    if limit is not None:\n",
    "        query += f\" LIMIT {limit}\"\n",
    "        \n",
    "    # Using pandas to read the query result directly into a DataFrame\n",
    "    df = pd.read_sql_query(query, connection, params=params)\n",
    "\n",
    "    connection.close()\n",
    "\n",
    "    # Convert DataFrame to a list of dictionaries\n",
    "    result_list = df.to_dict(orient='records')\n",
    "\n",
    "    return result_list\n"
   ]
  },
  {
   "cell_type": "markdown",
   "metadata": {},
   "source": [
    "## fetching single element"
   ]
  },
  {
   "cell_type": "code",
   "execution_count": 49,
   "metadata": {},
   "outputs": [
    {
     "name": "stdout",
     "output_type": "stream",
     "text": [
      "time to fetch : 2.1485 seconds\n"
     ]
    }
   ],
   "source": [
    "\n",
    "# Example of querying the database for a specific element\n",
    "element = \"Si\"  # Example element (replace with your query parameter)\n",
    "# date = None # Example date (can be None or a valid date)\n",
    "date = None  # Example date (can be None or a valid date)\n",
    "# date = \"2021-04-22\"  # Example date (can be None or a valid date)\n",
    "# date = \"2020-01-02\"  # Example date (can be None or a valid date)\n",
    "\n",
    "FETCH_LIMIT  = None\n",
    "# Build the query based on the presence of 'date'\n",
    "if date:\n",
    "    query = \"SELECT * FROM abundances WHERE element = ? AND date = ?\"\n",
    "    data = (element, date)\n",
    "else:\n",
    "    query = \"SELECT * FROM abundances WHERE element = ?\"\n",
    "    data = (element,)\n",
    "\n",
    "\n",
    "# Start the timer to measure the query execution time\n",
    "start_time = time.time()\n",
    "\n",
    "result = query_db(query, data,FETCH_LIMIT )\n",
    "\n",
    "\n",
    "end_time = time.time()\n",
    "# Print the time taken to perform the query\n",
    "print(f\"time to fetch : {end_time - start_time:.4f} seconds\")\n",
    "# Get the result from the query_db function\n",
    "\n",
    "# Print the result in JSON-like format (list of dictionaries)\n",
    "# print(json.dumps(result, indent=4))"
   ]
  },
  {
   "cell_type": "code",
   "execution_count": 50,
   "metadata": {},
   "outputs": [
    {
     "data": {
      "text/plain": [
       "250000"
      ]
     },
     "execution_count": 50,
     "metadata": {},
     "output_type": "execute_result"
    }
   ],
   "source": [
    "len(result)"
   ]
  },
  {
   "cell_type": "code",
   "execution_count": null,
   "metadata": {},
   "outputs": [],
   "source": []
  },
  {
   "cell_type": "code",
   "execution_count": null,
   "metadata": {},
   "outputs": [],
   "source": []
  },
  {
   "cell_type": "code",
   "execution_count": 51,
   "metadata": {},
   "outputs": [],
   "source": [
    "import numpy"
   ]
  },
  {
   "cell_type": "code",
   "execution_count": null,
   "metadata": {},
   "outputs": [],
   "source": []
  },
  {
   "cell_type": "code",
   "execution_count": 52,
   "metadata": {},
   "outputs": [
    {
     "name": "stdout",
     "output_type": "stream",
     "text": [
      "Array creation time 0.0834 seconds\n",
      "Tree creation time 0.0000 seconds\n",
      "53 found\n",
      "Query executed in 0.0250 seconds\n"
     ]
    }
   ],
   "source": [
    "import time\n",
    "from sklearn.neighbors import KDTree\n",
    "import numpy as np\n",
    "\n",
    "points = result\n",
    "\n",
    "# # List of points, where each point is a dictionary\n",
    "# points = [\n",
    "#     {'element': 'Si', 'date': '2020-01-01', 'abundance': 17.0, 'lat': 66.988234, 'long': 22.479195, 'year': 2024, 'day': 5, 'hour': 14, 'min': 9, 'sec': 57},\n",
    "#     {'element': 'O', 'date': '2021-05-10', 'abundance': 20.0, 'lat': 66.988500, 'long': 22.479800, 'year': 2025, 'day': 10, 'hour': 15, 'min': 10, 'sec': 30},\n",
    "#     {'element': 'Mg', 'date': '2022-08-12', 'abundance': 19.5, 'lat': 66.987000, 'long': 22.478000, 'year': 2023, 'day': 12, 'hour': 13, 'min': 8, 'sec': 10},\n",
    "#     # Add more points...\n",
    "# ]\n",
    "\n",
    "# Start the timer to measure the query execution time\n",
    "start_time = time.time()\n",
    "\n",
    "# Extract lat, long as 2D NumPy array (lat, long)\n",
    "points_array = np.array([(point['lat'], point['long']) for point in points])\n",
    "\n",
    "end_time = time.time()\n",
    "# Print the time taken to perform the query\n",
    "print(f\"Array creation time {end_time - start_time:.4f} seconds\")\n",
    "start_time = time.time()\n",
    "# Create a KDTree with the points\n",
    "tree = KDTree(points_array)\n",
    "print(f\"Tree creation time {end_time - start_time:.4f} seconds\")\n",
    "\n",
    "# End the timer after the query is completed\n",
    "end_time = time.time()\n",
    "\n",
    "# Function to fetch nearby points within a radius\n",
    "def get_nearby_points(query_point, radius_degrees):\n",
    "    # Convert query_point to a NumPy array\n",
    "    query_array = np.array([query_point])\n",
    "\n",
    "    # Query the tree to find points within the radius (in degrees)\n",
    "    indices = tree.query_radius(query_array, r=radius_degrees)\n",
    "\n",
    "    # Fetch the actual nearby points using the indices\n",
    "    nearby_points = [points[i] for i in indices[0]]\n",
    "\n",
    "    return nearby_points\n",
    "\n",
    "# Example query for nearby points\n",
    "query_point = (66.988234, 22.479195)  # A point to query (lat, long)\n",
    "radius = 2.0  # Radius in degrees (adjust as needed)\n",
    "\n",
    "# Start the timer to measure the query execution time\n",
    "start_time = time.time()\n",
    "\n",
    "# Get points within the radius\n",
    "nearby_points = get_nearby_points(query_point, radius)\n",
    "\n",
    "# End the timer after the query is completed\n",
    "end_time = time.time()\n",
    "\n",
    "print(f\"{len(nearby_points)} found\")\n",
    "# # Print the nearby points\n",
    "# for point in nearby_points:\n",
    "#     print(point)\n",
    "\n",
    "# Print the time taken to perform the query\n",
    "print(f\"Query executed in {end_time - start_time:.4f} seconds\")\n"
   ]
  },
  {
   "cell_type": "markdown",
   "metadata": {},
   "source": [
    "## fetching all points"
   ]
  },
  {
   "cell_type": "code",
   "execution_count": null,
   "metadata": {},
   "outputs": [],
   "source": []
  },
  {
   "cell_type": "code",
   "execution_count": 80,
   "metadata": {},
   "outputs": [],
   "source": [
    "del result"
   ]
  },
  {
   "cell_type": "code",
   "execution_count": 81,
   "metadata": {},
   "outputs": [],
   "source": [
    "query = \"SELECT * FROM abundances\"\n",
    "data = []"
   ]
  },
  {
   "cell_type": "code",
   "execution_count": 82,
   "metadata": {},
   "outputs": [
    {
     "name": "stdout",
     "output_type": "stream",
     "text": [
      "time to fetch : 11.2312 seconds\n"
     ]
    }
   ],
   "source": [
    "# Start the timer to measure the query execution time\n",
    "start_time = time.time()\n",
    "\n",
    "result = query_db(query, data,FETCH_LIMIT )\n",
    "\n",
    "\n",
    "end_time = time.time()\n",
    "# Print the time taken to perform the query\n",
    "print(f\"time to fetch : {end_time - start_time:.4f} seconds\")"
   ]
  },
  {
   "cell_type": "code",
   "execution_count": 83,
   "metadata": {},
   "outputs": [
    {
     "data": {
      "text/plain": [
       "7.0"
      ]
     },
     "execution_count": 83,
     "metadata": {},
     "output_type": "execute_result"
    }
   ],
   "source": [
    "len(result) / 250000"
   ]
  },
  {
   "cell_type": "code",
   "execution_count": null,
   "metadata": {},
   "outputs": [],
   "source": []
  },
  {
   "cell_type": "code",
   "execution_count": 84,
   "metadata": {},
   "outputs": [
    {
     "name": "stdout",
     "output_type": "stream",
     "text": [
      "Size of my_list: 14 MB\n"
     ]
    }
   ],
   "source": [
    "import sys\n",
    "\n",
    "\n",
    "# Get the size of the variable\n",
    "size_in_bytes = sys.getsizeof(result)\n",
    "\n",
    "print(f\"Size of my_list: {size_in_bytes//1024**2} MB\")\n"
   ]
  },
  {
   "cell_type": "code",
   "execution_count": 85,
   "metadata": {},
   "outputs": [],
   "source": [
    "import time\n",
    "from sklearn.neighbors import KDTree\n",
    "import numpy as np\n",
    "\n",
    "points = result"
   ]
  },
  {
   "cell_type": "code",
   "execution_count": null,
   "metadata": {},
   "outputs": [],
   "source": [
    "# kernel = True"
   ]
  },
  {
   "cell_type": "code",
   "execution_count": 86,
   "metadata": {},
   "outputs": [
    {
     "name": "stdout",
     "output_type": "stream",
     "text": [
      "Trees creation time : 1.9758 seconds\n"
     ]
    }
   ],
   "source": [
    "# Create a KDTree for each element\n",
    "element_trees = {}\n",
    "\n",
    "# Start the timer to measure the query execution time\n",
    "start_time = time.time()\n",
    "\n",
    "\n",
    "for element in element_list:\n",
    "    element_points = [(point['lat'], point['long']) for point in points if point['element'] == element]\n",
    "    element_trees[element] = KDTree(np.array(element_points))\n",
    "\n",
    "end_time = time.time()\n",
    "# Print the time taken to perform the query\n",
    "print(f\"Trees creation time : {end_time - start_time:.4f} seconds\")\n",
    "\n",
    "# Query function\n",
    "def get_nearby_points(query_point, radius_degrees, element):\n",
    "    query_array = np.array([query_point])\n",
    "\n",
    "    # Query the relevant tree for the specified element\n",
    "    tree = element_trees.get(element)\n",
    "    if tree:\n",
    "        indices = tree.query_radius(query_array, r=radius_degrees)\n",
    "        return [points[i] for i in indices[0]]\n",
    "    else:\n",
    "        return []\n",
    "\n"
   ]
  },
  {
   "cell_type": "code",
   "execution_count": 87,
   "metadata": {},
   "outputs": [
    {
     "name": "stdout",
     "output_type": "stream",
     "text": [
      "Size of elements trees: 7 KB\n"
     ]
    }
   ],
   "source": [
    "# Get the size of the variable\n",
    "size_in_bytes = sys.getsizeof(element_trees['Fe']) * 7 \n",
    "\n",
    "print(f\"Size of elements trees: {size_in_bytes//1024} KB\")"
   ]
  },
  {
   "cell_type": "code",
   "execution_count": 104,
   "metadata": {},
   "outputs": [
    {
     "name": "stdout",
     "output_type": "stream",
     "text": [
      "Query time : 0.0030 seconds\n",
      "16 points found\n"
     ]
    }
   ],
   "source": [
    "# Query for a specific element\n",
    "query_point = (66.988234, 22.479195)\n",
    "radius = 1.0  # 2 degrees radius\n",
    "element = 'Si'\n",
    "\n",
    "start_time = time.time()\n",
    "\n",
    "nearby_points = get_nearby_points(query_point, radius, element)\n",
    "\n",
    "end_time = time.time()\n",
    "# Print the time taken to perform the query\n",
    "print(f\"Query time : {end_time - start_time:.4f} seconds\")\n",
    "\n",
    "print(f\"{len(nearby_points)} points found\")\n",
    "\n"
   ]
  },
  {
   "cell_type": "code",
   "execution_count": 102,
   "metadata": {},
   "outputs": [
    {
     "data": {
      "text/plain": [
       "[[63.384976, 20.88965],\n",
       " [63.568389, 21.611099],\n",
       " [63.440604, 20.868272],\n",
       " [63.623415, 20.941517],\n",
       " [63.715584, 20.629065],\n",
       " [63.862185, 19.988494],\n",
       " [63.981685, 22.22674],\n",
       " [63.957563, 21.489285],\n",
       " [63.989492, 20.865799],\n",
       " [63.808552, 22.329401],\n",
       " [64.198639, 19.929209],\n",
       " [64.217924, 21.590061],\n",
       " [64.260436, 20.445086],\n",
       " [64.406685, 21.841401],\n",
       " [64.445796, 20.796922],\n",
       " [64.577912, 19.619538],\n",
       " [64.639676, 19.551581],\n",
       " [64.764734, 19.207426],\n",
       " [64.813723, 21.18727],\n",
       " [64.874453, 22.78601]]"
      ]
     },
     "execution_count": 102,
     "metadata": {},
     "output_type": "execute_result"
    }
   ],
   "source": [
    "N1 = 20\n",
    "l1 = [[i['lat'], i['long']] for i in nearby_points[:N1]]\n",
    "\n",
    "l1"
   ]
  }
 ],
 "metadata": {
  "kernelspec": {
   "display_name": "Python 3",
   "language": "python",
   "name": "python3"
  },
  "language_info": {
   "codemirror_mode": {
    "name": "ipython",
    "version": 3
   },
   "file_extension": ".py",
   "mimetype": "text/x-python",
   "name": "python",
   "nbconvert_exporter": "python",
   "pygments_lexer": "ipython3",
   "version": "3.11.2"
  }
 },
 "nbformat": 4,
 "nbformat_minor": 2
}
